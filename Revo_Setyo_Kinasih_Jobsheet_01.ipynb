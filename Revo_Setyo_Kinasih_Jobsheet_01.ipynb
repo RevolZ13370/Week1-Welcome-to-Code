{
  "nbformat": 4,
  "nbformat_minor": 0,
  "metadata": {
    "colab": {
      "provenance": [],
      "authorship_tag": "ABX9TyNUjOd+Ofjn5Th3iKaksIxH",
      "include_colab_link": true
    },
    "kernelspec": {
      "name": "python3",
      "display_name": "Python 3"
    },
    "language_info": {
      "name": "python"
    }
  },
  "cells": [
    {
      "cell_type": "markdown",
      "metadata": {
        "id": "view-in-github",
        "colab_type": "text"
      },
      "source": [
        "<a href=\"https://colab.research.google.com/github/RevolZ13370/Week1-Welcome-to-Code/blob/main/Revo_Setyo_Kinasih_Jobsheet_01.ipynb\" target=\"_parent\"><img src=\"https://colab.research.google.com/assets/colab-badge.svg\" alt=\"Open In Colab\"/></a>"
      ]
    },
    {
      "cell_type": "markdown",
      "source": [
        "# Praktikum 01. Menghitung Luas Persegi Panjang"
      ],
      "metadata": {
        "id": "gbSll6MBQ5Vl"
      }
    },
    {
      "cell_type": "code",
      "source": [
        "p = int(input(\"Masukkan panjang :\"))\n",
        "l = int(input(\"Masukkan lebar :\"))\n",
        "luas = p * l\n",
        "print(\"Luas Persegi Panjang =\", luas)"
      ],
      "metadata": {
        "colab": {
          "base_uri": "https://localhost:8080/"
        },
        "id": "_1X8hWQzRKuQ",
        "outputId": "a718aaa5-457b-4708-cbe0-cc37eace9f6f"
      },
      "execution_count": null,
      "outputs": [
        {
          "output_type": "stream",
          "name": "stdout",
          "text": [
            "Masukkan panjang :6\n",
            "Masukkan lebar :2\n",
            "Luas Persegi Panjang = 12\n"
          ]
        }
      ]
    },
    {
      "cell_type": "markdown",
      "source": [
        "# Praktikum 02. Menghitung Luas Segitiga (Rumus Heron)"
      ],
      "metadata": {
        "id": "AQFnAmugR2P3"
      }
    },
    {
      "cell_type": "code",
      "source": [
        "import math\n",
        "\n",
        "a = float(input(\"Masukkan sisi a: \"))\n",
        "b = float(input(\"Masukkan sisi b: \"))\n",
        "c = float(input(\"Masukkan sisi c: \"))\n",
        "\n",
        "# Check if the sides can form a valid triangle using the triangle inequality theorem\n",
        "if (a + b > c) and (a + c > b) and (b + c > a):\n",
        "    s = (a + b + c) / 2\n",
        "    luas = math.sqrt(s * (s - a) * (s - b) * (s - c))\n",
        "    print(\"Luas Segitiga = \", luas)\n",
        "else:\n",
        "    print(\"Sisi-sisi yang dimasukkan tidak membentuk segitiga.\")"
      ],
      "metadata": {
        "colab": {
          "base_uri": "https://localhost:8080/"
        },
        "id": "TDPOc9d_R9Kv",
        "outputId": "5076d312-b585-4180-da9c-017853316779"
      },
      "execution_count": null,
      "outputs": [
        {
          "output_type": "stream",
          "name": "stdout",
          "text": [
            "Masukkan sisi a: 12\n",
            "Masukkan sisi b: 2\n",
            "Masukkan sisi c: 12\n",
            "Luas Segitiga =  11.958260743101398\n"
          ]
        }
      ]
    },
    {
      "cell_type": "markdown",
      "source": [
        "# Praktikum 03. Konversi Suhu Celcius ke Fahrenheit"
      ],
      "metadata": {
        "id": "q9lUnHg2TI2-"
      }
    },
    {
      "cell_type": "code",
      "source": [
        "c = float(input(\"Masukkan suhu (°C): \"))\n",
        "f = (c * 9/5) + 32\n",
        "print(\"Hasil konversi = \", f, \"°F\")"
      ],
      "metadata": {
        "colab": {
          "base_uri": "https://localhost:8080/"
        },
        "id": "fz0lZ7gnTPJg",
        "outputId": "d2e8d72d-6255-412c-9ebd-350c75ea115a"
      },
      "execution_count": null,
      "outputs": [
        {
          "output_type": "stream",
          "name": "stdout",
          "text": [
            "Masukkan suhu (°C): 32\n",
            "Hasil konversi =  89.6 °F\n"
          ]
        }
      ]
    },
    {
      "cell_type": "markdown",
      "source": [
        "# Praktikum 04. Menhitung Umur Berdasarkan Tahun Lahir"
      ],
      "metadata": {
        "id": "IaSuJYrGTpNF"
      }
    },
    {
      "cell_type": "code",
      "source": [
        "tahun_lahir = int(input(\"Masukkan tahun lahir :\"))\n",
        "tahun_sekarang = 2025\n",
        "umur = tahun_sekarang - tahun_lahir\n",
        "print(\"Umur anda = \", umur, \"tahun\")"
      ],
      "metadata": {
        "colab": {
          "base_uri": "https://localhost:8080/"
        },
        "id": "YRtiUzSxTv2y",
        "outputId": "ffb9a519-bef4-4343-dd4b-aaa8e020027a"
      },
      "execution_count": null,
      "outputs": [
        {
          "output_type": "stream",
          "name": "stdout",
          "text": [
            "Masukkan tahun lahir :1994\n",
            "Umur anda =  31 tahun\n"
          ]
        }
      ]
    },
    {
      "cell_type": "markdown",
      "source": [
        "# Praktikum 05. Menghitung Luas Lingkaran"
      ],
      "metadata": {
        "id": "GpMWiKB8Um_m"
      }
    },
    {
      "cell_type": "code",
      "source": [
        "import math\n",
        "r = float(input(\"Masukkan jari-jari lingkaran : \"))\n",
        "luas = math.pi * r * r\n",
        "print(\"Luas lingkaran = \", luas)"
      ],
      "metadata": {
        "colab": {
          "base_uri": "https://localhost:8080/"
        },
        "id": "x8oXJi6bUtQy",
        "outputId": "8067f4f4-cb41-4936-b3ad-329bc6441747"
      },
      "execution_count": null,
      "outputs": [
        {
          "output_type": "stream",
          "name": "stdout",
          "text": [
            "Masukkan jari-jari lingkaran : 14\n",
            "Luas lingkaran =  615.7521601035994\n"
          ]
        }
      ]
    },
    {
      "cell_type": "markdown",
      "source": [
        "# Praktikum 06. Menjumlahkan Tiga Bilangan"
      ],
      "metadata": {
        "id": "hj18v1PlVHMe"
      }
    },
    {
      "cell_type": "code",
      "source": [
        "a = int(input(\"Masukkan bilangan pertama : \"))\n",
        "b = int(input(\"Masukkan bilangan kedua : \"))\n",
        "c = int(input(\"Masukkan bilangan ketiga : \"))\n",
        "jumlah = a + b + c\n",
        "print(\"Jumlah = \", jumlah)"
      ],
      "metadata": {
        "colab": {
          "base_uri": "https://localhost:8080/"
        },
        "id": "ZXH1XLL1VRJC",
        "outputId": "5684ce46-6842-4a3e-9e3b-acd59772b54a"
      },
      "execution_count": null,
      "outputs": [
        {
          "output_type": "stream",
          "name": "stdout",
          "text": [
            "Masukkan bilangan pertama : 98\n",
            "Masukkan bilangan kedua : 12\n",
            "Masukkan bilangan ketiga : 27\n",
            "Jumlah =  137\n"
          ]
        }
      ]
    }
  ]
}